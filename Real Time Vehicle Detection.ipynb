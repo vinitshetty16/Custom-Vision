{
 "cells": [
  {
   "cell_type": "code",
   "execution_count": 1,
   "id": "19e22e0f",
   "metadata": {},
   "outputs": [],
   "source": [
    "import requests\n",
    "import numpy as np\n",
    "import cv2"
   ]
  },
  {
   "cell_type": "code",
   "execution_count": 2,
   "id": "5f6617cc",
   "metadata": {},
   "outputs": [],
   "source": [
    "# Fetch Custom Vision endpoint URL and prediction key\n",
    "ENDPOINT_URL = \"https://cvshetty001-prediction.cognitiveservices.azure.com/customvision/v3.0/Prediction/df319196-9dd6-47c5-82eb-dbd41d67d535/detect/iterations/Iteration4/image\"  \n",
    "PREDICTION_KEY = \"1a875b042c364ddc910f2ce535ce5f8c\""
   ]
  },
  {
   "cell_type": "code",
   "execution_count": 3,
   "id": "b5f650bd",
   "metadata": {},
   "outputs": [],
   "source": [
    "# Function to get prediction results from Custom Vision\n",
    "def predict(image_data):\n",
    "    headers = {\n",
    "        'Prediction-Key': PREDICTION_KEY,\n",
    "        'Content-Type': 'application/octet-stream'\n",
    "    }\n",
    "    response = requests.post(ENDPOINT_URL, headers=headers,  data=image_data)\n",
    "    response.raise_for_status()\n",
    "    results = response.json()['predictions']\n",
    "    return results"
   ]
  },
  {
   "cell_type": "code",
   "execution_count": 4,
   "id": "7c007abf",
   "metadata": {},
   "outputs": [],
   "source": [
    "# Load the video file\n",
    "cap = cv2.VideoCapture('C:/Users/vinit/Test_video1.mp4')\n",
    "\n",
    "# Set up the output video writer\n",
    "fourcc = cv2.VideoWriter_fourcc(*'mp4v')\n",
    "out = cv2.VideoWriter('final_output.mp4', fourcc, 30, (int(cap.get(3)), int(cap.get(4))))"
   ]
  },
  {
   "cell_type": "code",
   "execution_count": 5,
   "id": "6c3114c2",
   "metadata": {},
   "outputs": [],
   "source": [
    "# Loop through each frame of the video\n",
    "while True:\n",
    "    ret, frame = cap.read()\n",
    "    if not ret:\n",
    "        break\n",
    "    \n",
    "    # Convert the frame to a byte array\n",
    "    _, img_encoded = cv2.imencode('.jpg', frame)\n",
    "    image_data = img_encoded.tobytes()\n",
    "    \n",
    "    # Get prediction results for the current frame\n",
    "    results = predict(image_data)\n",
    "    # Loop through the results and draw bounding boxes around detected vehicles\n",
    "    for result in results:\n",
    "        if result['probability'] > 0.2:\n",
    "            tag_name = result['tagName']\n",
    "            if tag_name == 'Bicycle' or tag_name == 'Car' or tag_name == 'Tram':\n",
    "                x = int(result['boundingBox']['left'] * cap.get(3))\n",
    "                y = int(result['boundingBox']['top'] * cap.get(4))\n",
    "                w = int(result['boundingBox']['width'] * cap.get(3))\n",
    "                h = int(result['boundingBox']['height'] * cap.get(4))\n",
    "                cv2.rectangle(frame, (x, y), (x+w, y+h), (0, 0, 255), 2)\n",
    "                label = result['tagName']\n",
    "                confidence = result['probability']\n",
    "                text = f\"{label} ({confidence:.2f})\"\n",
    "                cv2.putText(frame, text, (x, y-10), cv2.FONT_HERSHEY_SIMPLEX, 0.5, (0, 255, 0), 2)\n",
    "            \n",
    "    # Write the annotated frame to the output video\n",
    "    out.write(frame)\n",
    "    # Show the annotated frame in a window\n",
    "    cv2.imshow('frame', frame)\n",
    "    if cv2.waitKey(1) == ord('q'):\n",
    "        break"
   ]
  },
  {
   "cell_type": "code",
   "execution_count": 6,
   "id": "34ba3a5d",
   "metadata": {},
   "outputs": [],
   "source": [
    "# Release the resources\n",
    "cap.release()\n",
    "out.release()\n",
    "cv2.destroyAllWindows()"
   ]
  }
 ],
 "metadata": {
  "kernelspec": {
   "display_name": "Python 3 (ipykernel)",
   "language": "python",
   "name": "python3"
  },
  "language_info": {
   "codemirror_mode": {
    "name": "ipython",
    "version": 3
   },
   "file_extension": ".py",
   "mimetype": "text/x-python",
   "name": "python",
   "nbconvert_exporter": "python",
   "pygments_lexer": "ipython3",
   "version": "3.9.13"
  }
 },
 "nbformat": 4,
 "nbformat_minor": 5
}
